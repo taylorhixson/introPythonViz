{
 "cells": [
  {
   "cell_type": "markdown",
   "metadata": {},
   "source": [
    "# Introduction to Data Visualization with Python\n",
    "\n",
    "This notebook was prepared by Taylor Hixson (taylor.hixson@nyu.edu) for the NYUAD Library workshop Introduction to Data Visualization with Python offered on 3 November 2019. This workshop shows the basics of using seaborn to create basic static visualizations for publication. \n",
    "\n",
    "[Seaborn](https://seaborn.pydata.org/) is a Python library that is built on [Matplotlib](https://matplotlib.org/). While Matplotlib offers great flexibility and customization (e.g. creating functions to automate figures), seaborn has a simpler syntax and visually attractive default style options. \n",
    "\n",
    "Much of the content in this session was inspired by the [Data Camp](https://www.datacamp.com/) courses [Introduction to seaborn](https://www.datacamp.com/courses/introduction-to-seaborn) and [Introduction to MatPlotLib](https://www.datacamp.com/courses/introduction-to-matplotlib).\n",
    "\n",
    "\n",
    "## Introductory notes and resources\n",
    "### Working in a Jupyter Notebook\n",
    "- Jupyter Notebook works sequentially, so it is necessary to follow the order in the notebook to complete tasks. That is, run the code cells in the order of the exercises in this notebook or errors may occur.\n",
    "- To run code in Jupyter Notebook, use the **Run** button in the toolbar above, or press `shift + return/enter` on the keyboard.\n",
    "- To edit a block of text double click it. Run the cell to return it to its visual state.\n",
    "- Press **H** on the keyboard to see all keyboard shortcuts available in Jupyter Notebook.\n",
    "\n",
    "### How to copy a file path\n",
    "- **Mac**: right click/control (ctrl) click the file and press alt. An option to **Copy FILE as Pathname** will appear in the menu. Select it to copy the path.\n",
    "- **PC**: hold down shift on the keyboard and, while continuing to hold down shift, right click the file. An option to **Copy as path** will appear in the menu. Select it to copy the path.\n",
    "\n",
    "### Further resources\n",
    "- [seaborn Cheat Sheet](https://s3.amazonaws.com/assets.datacamp.com/blog_assets/Python_Seaborn_Cheat_Sheet.pdf)\n",
    "- [Matplotlib Cheat Sheet]( https://s3.amazonaws.com/assets.datacamp.com/blog_assets/Python_Matplotlib_Cheat_Sheet.pdf)\n",
    "- [Pandas Cheat Sheet](https://pandas.pydata.org/Pandas_Cheat_Sheet.pdf)\n",
    "- [Workshop key terms and resources]()\n",
    "\n",
    "<a id=\"toc\"></a>\n",
    "## Table of contents\n",
    "1. [Exercise 0: Import libraries and load data](#ex0)\n",
    "- [Relational plots](#relplot)\n",
    "- [Exercise 1: Create a scatter plot](#ex1)\n",
    "- [Exercise 2: Change x and y values](#ex2)\n",
    "- [Exercise 3: Customize plot parameters](#ex3)\n",
    "- [Exercise 4: Styling and saving plots](#ex4)\n",
    "- [Exercise 5: Load in a dataset from a csv with Pandas](#ex5)\n",
    "- [Exercise 6: Try it yourself](#ex6)\n",
    "- [Categorical plots](#cat)\n",
    "- [Exercise 7: Explore data for categorical plots](#ex7)\n",
    "- [Exercise 8: Create a bar chart](#ex8)\n",
    "- [Exercise 9: Rotating labels](#ex9)\n",
    "- [Exercise 10: Explore different categorical plots](#ex10)\n",
    "- [Seaborn color palettes](#color)\n",
    "- [Exercise 11: Setting a palette ](#ex11)\n",
    "- [Distribution plots](#dist)\n",
    "- [Exercise 12: Explore distribution plots](#ex12)"
   ]
  },
  {
   "cell_type": "markdown",
   "metadata": {},
   "source": [
    "<a id=\"ex0\"></a>\n",
    "## Exercise 0: Import libraries and load data\n",
    "Python uses zero-based indexing--so let's start our exercises at 0, too!\n",
    "\n",
    "To complete this exercise, run the following two cells to import the three Python libraries used in this workshop and the first practice dataset. To run code in Jupyter Notebook, use the **Run** button in the toolbar above, or press `shift + return/enter` on the keyboard.\n",
    "\n",
    "Jupyter Notebook works sequentially, so it is usually necessary to follow the order of the code in the notebook in order to complete tasts. That is, errors may occur if a library is not imported or a cell is skipped.\n",
    "\n",
    "The libraries listed below are part of the core Anaconda package, so if running Jupyter Notebooks through Anaconda, all you need to do is run the code to import the libraries [pandas](https://pandas.pydata.org/), [matplotlib](https://matplotlib.org/3.1.1/index.html) and [seaborn](https://seaborn.pydata.org/index.html).\n",
    "\n",
    "[Return to table of contents](#toc)"
   ]
  },
  {
   "cell_type": "code",
   "execution_count": null,
   "metadata": {},
   "outputs": [],
   "source": [
    "# Import libraries\n",
    "\n",
    "import pandas as pd\n",
    "import matplotlib.pyplot as plt\n",
    "import seaborn as sns"
   ]
  },
  {
   "cell_type": "markdown",
   "metadata": {},
   "source": [
    "Run the next cell to load in the `tips` dataset and view the first five rows, which is referred to as the head of a dataset. The tips dataset is provided by the seaborn library to test visualizations. Later, we will load in data from other sources.\n",
    "\n",
    "In the output, take note of the column names: total_bill, tip, sex, smoker, day, time, size. What type of data is in each column?"
   ]
  },
  {
   "cell_type": "code",
   "execution_count": null,
   "metadata": {},
   "outputs": [],
   "source": [
    "# Import data\n",
    "\n",
    "# sns.load_dataset is used to load in the sample data available from Seaborn\n",
    "tips = sns.load_dataset(\"tips\")\n",
    "\n",
    "#View the first 5 rows of the Tips dataset\n",
    "print(tips.head())"
   ]
  },
  {
   "cell_type": "markdown",
   "metadata": {},
   "source": [
    "<a id=\"relplot\"></a>\n",
    "## Introduction to relational plots\n",
    "Relational plots show the relationship between 2 quantitative (numeric) variables. This session uses `sns.relplot()` to show how to create relational plots: scatter and line. In a relplot, the x and y axis data must be numeric values. [More on sns.relplot](https://seaborn.pydata.org/generated/seaborn.relplot.html)\n",
    "\n",
    "It is possible to make scatter and line plots using sns.scatterplot() and sns.lineplot(), but sns.relplot() allows for subplotting.\n",
    "\n",
    "The required parameters of sns.relplot(): \n",
    "- x = \"Column\" Between the quotations, place the column name to go on the x axis\n",
    "- y = \"Column\" Between the quotations, place the column name to go on the y axis\n",
    "- data = After the equal sign, place the variable name of the dataset\n",
    "\n",
    "Optional to create different types of plots:\n",
    "- kind = \"scatter\" OR \"line\"\n",
    "\n",
    "Other optional and highly used parameters of sns.relplot() are:\n",
    "- hue = \"Column\" Column to color code by. This can be any column in the dataset, not just x or y\n",
    "- size = \"Column\" Column to visualize data with varying sizes\n",
    "- row = \"Column\" Creates subplots based on a category/column and arranged in rows\n",
    "- col = \"Column\" Creates subplots based on a category/column and arranged in columns\n",
    "\n",
    "[Return to table of contents](#toc)"
   ]
  },
  {
   "cell_type": "markdown",
   "metadata": {},
   "source": [
    "<a id=\"ex1\"></a>\n",
    "## Exercise 1: Create a scatter plot\n",
    "\n",
    "To complete this exercise, run the following line of code to create a scatter plot.\n",
    "\n",
    "[Return to table of contents](#toc)"
   ]
  },
  {
   "cell_type": "code",
   "execution_count": null,
   "metadata": {
    "scrolled": true
   },
   "outputs": [],
   "source": [
    "# sns.relplot(x,y,data, kind=\"scatter\")\n",
    "sns.relplot(x = \"total_bill\",\n",
    "           y = \"tip\",\n",
    "           data = tips,\n",
    "            # What does this look line when scatter is changed to line?\n",
    "           kind = \"scatter\")\n",
    "\n",
    "plt.show()"
   ]
  },
  {
   "cell_type": "markdown",
   "metadata": {},
   "source": [
    "<a id=\"ex2\"></a>\n",
    "## Exercise 2: Change x and y values\n",
    "\n",
    "In the following line of code, swap the x and y values. That is, make `x = \"tip\"` and `y = \"total_bill\"`. How does the plot change?\n",
    "\n",
    "Try again by changing the x or y value to `size`. How does the plot look now?\n",
    "\n",
    "[Return to table of contents](#toc)"
   ]
  },
  {
   "cell_type": "code",
   "execution_count": null,
   "metadata": {},
   "outputs": [],
   "source": [
    "# sns.relplot(x,y,data, kind=\"scatter\")\n",
    "sns.relplot(x = \"total_bill\",\n",
    "           y = \"tip\",\n",
    "           data = tips,\n",
    "           kind = \"scatter\")\n",
    "\n",
    "plt.show()"
   ]
  },
  {
   "cell_type": "markdown",
   "metadata": {},
   "source": [
    "<a id=\"ex3\"></a>\n",
    "## Exercise 3: Customize plot parameters\n",
    "\n",
    "To complete this exercise:\n",
    "1. Uncomment **lines 5, 6, AND/OR 7** to add more parameters from the `tips` dataset to the scatter plot such as `hue = \"size\"`, where size indicates the number of people dining at the table. To uncomment a line, delete the `#`.\n",
    "2. On **line 12** in `g.set()`, add x and y labels to the axes and a title by adding text between the empty quotations.\n",
    "\n",
    "**Note**: Notice the addition of g = in line 12. This allows you to call on more functions from Matplotlib by defining the plot as a variable, which in this case is arbitrarily defined as g. This is really only necessary if using one of the subplotting options through the col and row parameters. Overall, it is a good practice to follow if you plan on creating more complex plots.\n",
    "\n",
    "[Return to table of contents](#toc)"
   ]
  },
  {
   "cell_type": "code",
   "execution_count": null,
   "metadata": {
    "scrolled": true
   },
   "outputs": [],
   "source": [
    "# Add more parameters to visualize the scatter plot\n",
    "g = sns.relplot(x = \"total_bill\",\n",
    "           y = \"tip\",\n",
    "           data = tips,\n",
    "           kind = \"scatter\",\n",
    "           #hue = \" \",\n",
    "           #size = \" \",\n",
    "            #col = \" \"\n",
    "           )\n",
    "\n",
    "# Add a title and label the axes\n",
    "g.set(xlabel = \" \",\n",
    "      ylabel = \" \",\n",
    "      title = \" \")\n",
    "\n",
    "plt.show()"
   ]
  },
  {
   "cell_type": "markdown",
   "metadata": {},
   "source": [
    "<a id=\"ex4\"></a>\n",
    "## Exercise 4: Styling and saving plots\n",
    "\n",
    "The great default style options is one of the reasons to use seaborn! \n",
    "\n",
    "To complete this exercise: \n",
    "1. In **line 2**, add a grid style within the quotations in `sns.set_style(\"\")`. The options are \"white\", dark\", \"whitegrid\", \"darkgrid\", or \"ticks\".\n",
    "\n",
    "2. In **line 6**, change the context of the plot to `\"poster\"` with `sns.set_context()`. This makes it so the scale of the visual is suitable for a poster presentation.\n",
    "\n",
    "3. In **line 21** change MAIN PLOT TITLE to something more descriptive about the plot. \n",
    "\n",
    "4. Uncomment **line 44** by deleting the **#**. Line 44 contains code for saving visualization to a file by providing a path (~/Desktop/), a new file name (myFirstPlot), and file type (.png). \n",
    "\n",
    "**Notes**: \n",
    "- **Line 44** uses a **relative file path**, so if a new image file does **not** appear on the desktop after a few minutes. Then, **copy** the folder/file path where you want to save the output and replace ~/Desktop (retain the final /) with the copied path. To copy the file path on a Mac, right click the file/folder and hold down the alt key. The option to **Copy as Pathname** will appear in place of the regular copy. Select this option to copy the path.\n",
    "\n",
    "- To save a figure, DO NOT use `plt.show()` in the code. To save **and** view the figure, use `plt.draw()`, NOT `plt.show()`, in the code. However, neither `plt.show()` nor `plt.draw()` are actually required to view the plot in a Notebook enviroment. This is not the case for all Python environments, so it is a good practice to follow if you plan to use other Python environments for your work.\n",
    "\n",
    "[Return to table of contents](#toc)"
   ]
  },
  {
   "cell_type": "code",
   "execution_count": null,
   "metadata": {},
   "outputs": [],
   "source": [
    "# seaborn has 5 default styles: \"white\" dark\" \"whitegrid\"\"darkgrid\" \"ticks\"\n",
    "sns.set_style(\" \")\n",
    "\n",
    "# Change scale of plot depending on situation of showing. Default is \"paper\"\n",
    "# Options: \"paper\", \"notebook\", \"talk\", \"poster\"\n",
    "sns.set_context(\" \")\n",
    "\n",
    "# Add data and axes\n",
    "# Uncomment col = below to create subplots\n",
    "g = sns.relplot(x = \"total_bill\",\n",
    "           y = \"tip\",\n",
    "           data = tips,\n",
    "           kind = \"scatter\",\n",
    "            hue = \"size\",\n",
    "           size = \"size\",\n",
    "             # Col will create subplots from the categories   \n",
    "          #col = \"smoker\"\n",
    "           )\n",
    "\n",
    "# Change the main title on the plot using the Matplotlib function plt.suptitle()\n",
    "plt.suptitle(\"MAIN PLOT TITLE\",\n",
    "            ha = \"center\",\n",
    "             #y = 1.03,\n",
    "             #x = 0.1,\n",
    "            weight = \"extra bold\")\n",
    "\n",
    "# Label axes\n",
    "g.set(xlabel = \"Tip in USD\",\n",
    "      ylabel = \"Total bill in USD\")\n",
    "\n",
    "# !!!!!Bonus!!!!!!\n",
    "# Change subplot titles\n",
    "#axes = ax.axes.flatten()\n",
    "#axes[0].set_title(\"Smoker\")\n",
    "#axes[1].set_title(\"Nonsmoker\")\n",
    "\n",
    "# Save plot by uncommenting plt.savefig and inserting your own file path\n",
    "# To save a figure, DO NOT use plt.show() in the code\n",
    "# To save and view the figure, use plt.draw(), NOT plt.show()\n",
    "# However, plt.show() nor plt.draw() are actually required to view the plot in Notebook\n",
    "# This is not the case for all Python environments\n",
    "plt.draw()\n",
    "#plt.savefig(\"~/Desktop/myFirstPlot.png\", dpi=300)"
   ]
  },
  {
   "cell_type": "markdown",
   "metadata": {},
   "source": [
    "<a id=\"ex5\"></a>\n",
    "## Exercise 5: Load in a dataset from a csv with Pandas\n",
    "\n",
    "[Pandas](https://pandas.pydata.org/) is a Python library for data analysis, and it is great for reading in many data file types, including a .csv file (comma separated values).\n",
    "\n",
    "To complete this exercise, run the code to print the first five lines, or the head, of the `titanic` dataset. What types of values are in each column: categorical, numeric, etc.?\n",
    "\n",
    "**NOTE**: The below code uses a **relative file path**, so if something ressembling a data table does **not** appear **copy** the file path for the `titanic.csv` dataset that was included in the workshop download and **paste** it between the quotations in **line 6**. To copy the file path on a Mac, right click the file and hold down the alt key. The option to **Copy as Pathname** will appear in place of the regular copy. Select this option to copy the path.\n",
    " \n",
    "[Return to table of contents](#toc)"
   ]
  },
  {
   "cell_type": "code",
   "execution_count": null,
   "metadata": {
    "scrolled": true
   },
   "outputs": [],
   "source": [
    "# Load a csv from a file path\n",
    "titanic = pd.read_csv(\"~/IntroPythonViz/titanic.csv\")\n",
    "print(titanic.head())"
   ]
  },
  {
   "cell_type": "markdown",
   "metadata": {},
   "source": [
    "<a id=\"ex6\"></a>\n",
    "## Exercise 6: Try it yourself\n",
    "\n",
    "To complete this exercise, fill in all the parameters with empty quotations marks to create a relational plot with values from the `titantic.csv` dataset. Look for empty quotations on **lines 2, 3, 5, 12, 22, and 23**.\n",
    "\n",
    "Remember, relational plots require numeric values. Not sure which to use? Try `Age` and `Fare`.\n",
    "\n",
    "[Return to table of contents](#toc)"
   ]
  },
  {
   "cell_type": "code",
   "execution_count": null,
   "metadata": {},
   "outputs": [],
   "source": [
    "# Uncomment col = below to create subplots\n",
    "ax = sns.relplot(x = \" \",\n",
    "           y = \" \",\n",
    "           data = titanic,\n",
    "            #use scatter OR line for kind\n",
    "           kind = \" \",\n",
    "         # Bonus: Style by further features\n",
    "          # hue = \" \",\n",
    "          # size = \" \",  \n",
    "           # col = \" \"\n",
    "           )\n",
    "\n",
    "# Change the main title on the plot using .suptitle(\"\")\n",
    "plt.suptitle(\" \",\n",
    "             # Bonus: Uncomment to style the title\n",
    "            # ha = \"center\",\n",
    "             #y = 1.03,\n",
    "             #x = 0.1,\n",
    "            # weight = \"extra bold\"\n",
    "            )\n",
    "\n",
    "# Label axes\n",
    "ax.set(xlabel = \" \",\n",
    "      ylabel = \" \")\n",
    "\n",
    "#Uncomment and add your file path and dpi (dots per inch)\n",
    "#plt.savefig(\"\", dpi=)"
   ]
  },
  {
   "cell_type": "markdown",
   "metadata": {},
   "source": [
    "<a id=\"cat\"></a>\n",
    "## Categorical Plots\n",
    "\n",
    "Categorical plots show the distribution of quantitative values as defined by a categorical variable. This session uses `sns.catplot()` to show how to create categorical plots: bar, count, box, point, etc. [More on sns.catplot](https://seaborn.pydata.org/generated/seaborn.catplot.html)\n",
    "\n",
    "It is possible to make categorical plots using other functions, but `sns.catplot()` allows for subplotting. \n",
    "\n",
    "The required parameters of `sns.catplot()`: \n",
    "- x = \"Column\" Between the quotations, place the column name to go on the x axis\n",
    "- y = \"Column\" Between the quotations, place the column name to go on the y axis\n",
    "- data = After the equal sign, place the variable name of the dataset\n",
    "\n",
    "Optional to create different types of plots:\n",
    "- kind = \"bar\" OR \"count\" OR \"box\" OR \"point\" OR \"boxen\" OR \"swarm\" OR \"strip\" OR \"violin\". If kind is not used, the default is swarm.\n",
    "\n",
    "Other optional and highly used parameters of `sns.catplot()` are:\n",
    "- hue = \"Column\" Column to color code by\" This can be any column in the dataset, not just x or y\n",
    "- row = \"Column\" Creates subplots based on a category/column and arranged in rows\n",
    "- col = \"Column\" Creates subplots based on a category/column and arranged in columns\n",
    "\n",
    "[Return to table of contents](#toc)"
   ]
  },
  {
   "cell_type": "markdown",
   "metadata": {},
   "source": [
    "<a id=\"ex7\"></a>\n",
    "## Exercise 7: Explore data for categorical plots\n",
    "\n",
    "To complete this exercise, look back at the head printed in exercise 6. Copy any column heading from the `titanic` dataset, and paste it between the quotation marks in **line 2** of the below code block. Run the cell to print the unique entries of the specified column. \n",
    "\n",
    "One reason you might want to know the number of unique categories in a column is to learn more about whether that data would make a good bar chart. That is, are there too many or too few categories to make an understandable categorical plot?\n",
    "\n",
    "[Return to table of contents](#toc)"
   ]
  },
  {
   "cell_type": "code",
   "execution_count": null,
   "metadata": {},
   "outputs": [],
   "source": [
    "# Use the base Python function .unique() to count the unique entries in a specified column\n",
    "type = titanic[\" \"].unique()\n",
    "print(type)\n",
    "\n",
    "#It's also possible to run this on one line without defining a variable\n",
    "#print(titanic[\"Fare\"].unique())"
   ]
  },
  {
   "cell_type": "markdown",
   "metadata": {},
   "source": [
    "<a id=\"ex8\"></a>\n",
    "## Exercise 8: Create a bar chart\n",
    "\n",
    "To complete this exercise, use `sns.catplot()` to create a `kind = \"bar\"` chart showing `Fare` distribution for the recorded `Sex` of the passengers. Place `Fare` and `Sex` as either x or y. Run the code once, and then, swap x and y values to see if there is any visual difference when it is run again.\n",
    "\n",
    "[Return to table of contents](#toc)"
   ]
  },
  {
   "cell_type": "code",
   "execution_count": null,
   "metadata": {
    "scrolled": true
   },
   "outputs": [],
   "source": [
    "sns.catplot(x = \" \",\n",
    "            y = \" \",\n",
    "           data = titanic,\n",
    "           kind = \" \")\n",
    "\n",
    "plt.show()\n"
   ]
  },
  {
   "cell_type": "markdown",
   "metadata": {},
   "source": [
    "<a id=\"ex9\"></a>\n",
    "## Exercise 9: Rotating labels\n",
    "To complete this exercise: \n",
    "1. On **lines 13 and 14** label the x and y axes to represent the respective values in **lines 7 and 8**.\n",
    "2. On **line 21** in `f.set_yticklabels(rotation=)`, add a number after the equal sign between 0-360 to rotate the label. \n",
    "3. Run the cell and view the output. How does the rotated y label look now? Replace the number and run the code block a second time.\n",
    "\n",
    "Optional: change the rotation angle of the y-axis labels.\n",
    "\n",
    "[Return to table of contents](#toc)"
   ]
  },
  {
   "cell_type": "code",
   "execution_count": null,
   "metadata": {
    "scrolled": true
   },
   "outputs": [],
   "source": [
    "# Style\n",
    "\n",
    "sns.set_style(\"darkgrid\")\n",
    "\n",
    "sns.set_context(\"paper\")\n",
    "\n",
    "f = sns.catplot(x = \"Sex\",\n",
    "            y = \"Fare\",\n",
    "           data = titanic,\n",
    "           kind = \"bar\")\n",
    "\n",
    "# Label\n",
    "f.set(xlabel = \" \",\n",
    "      ylabel = \" \",\n",
    "      #xlim = (-20,20)\n",
    "      )\n",
    "\n",
    "# Defining the variable f in line 7 allows\n",
    "# access to the matplotlib function .set_xticklabels()\n",
    "f.set_xticklabels(rotation=0)\n",
    "f.set_yticklabels(rotation= )\n",
    "\n",
    "\n",
    "plt.show()"
   ]
  },
  {
   "cell_type": "markdown",
   "metadata": {},
   "source": [
    "<a id=\"ex10\"></a>\n",
    "# Exercise 10: Explore different charts\n",
    "\n",
    "To complete this exercise, in **line 4** add a value between the quotations of the `kind = \" \"` parameter. Value options include `\"violin\"`, `\"swarm\"`, and `\"box\"`. Find the range of options in the description of [categorical plots](#cat).\n",
    "\n",
    "The x and y parameters as well as the data have already been added for you, but you may change them.\n",
    "\n",
    "[Return to table of contents](#toc)"
   ]
  },
  {
   "cell_type": "code",
   "execution_count": null,
   "metadata": {},
   "outputs": [],
   "source": [
    "sns.catplot(x = \"Pclass\",\n",
    "            y = \"Age\",\n",
    "            data = titanic,\n",
    "            kind = \" \")"
   ]
  },
  {
   "cell_type": "markdown",
   "metadata": {},
   "source": [
    "<a id=\"color\"></a>\n",
    "## Seaborn color palettes\n",
    "\n",
    "Styling data with an intuitive and accessible color palette is an important part of visualization. Seaborn offers many different palettes and customization options. Some basics are listed below, and more information is available in the seaborn [color palettes documentation](https://seaborn.pydata.org/tutorial/color_palettes.html). \n",
    "\n",
    "Set a color palette using the function `sns.set_palette()`. Between the paranthesis, add a default color palette or create your own. Seaborn's default palettes must be placed within quotation marks. It is also possible to use the parameter `palette = ` within the `sns.relplot()` and `sns.catplot()` functions to define a palette for a plot.\n",
    "\n",
    "### Sample color palettes\n",
    "\n",
    "- Qualitative color palettes: \"deep\", \"muted\", \"pastel\", \"bright\", \"dark\", and \"colorblind\".\n",
    "\n",
    "- Sequential color palettes: \"Blues\", \"BuGn\"\n",
    "\n",
    "- Diverging color palettes: \"BrBG\", \"RdBu\", \"coolwarm\" \n",
    "\n",
    "Notes:\n",
    "- Use `_r` reverse a sequential palette. E.g.: `\"BuGn_r\"`\n",
    "- Use `_d` to darken the palette\n",
    "\n",
    "### Create a custom palette\n",
    "It is possible to create a custom palette by passing a list of seaborn colors and/or hexcodes to the function sns.set_palette(). To create a list use square brackets [], place the list items in quotations, and separate each item by a comma. E.g.,: `sns.set_palette([\"#F2FF33\",\"blue\"])`\n",
    "\n",
    "[Return to table of contents](#toc)"
   ]
  },
  {
   "cell_type": "markdown",
   "metadata": {},
   "source": [
    "<a id=\"ex11\"></a>\n",
    "## Exercise 11: Setting a palette\n",
    "\n",
    "To complete this exercise:\n",
    "1. In **line 2** set a `colorblind` palette for the chart using `sns.set_palette(\"\")`.\n",
    "2. Edit the functions or parameters on **lines 5, 8, 15, 19, 20, 24, and 42** to style, visualize, and save a chart using everything you have learned in this workshop so far.\n",
    "\n",
    "[Return to table of contents](#toc)"
   ]
  },
  {
   "cell_type": "code",
   "execution_count": null,
   "metadata": {},
   "outputs": [],
   "source": [
    "# Set palette to colorblind\n",
    "sns.set_palette(\" \")\n",
    "\n",
    "# Options: \"white\", dark\", \"whitegrid\", \"darkgrid\", or \"ticks\".\n",
    "sns.set_style(\" \")\n",
    "\n",
    "# Options: \"paper\", \"notebook\", \"talk\", \"poster\"\n",
    "sns.set_context(\" \")\n",
    "\n",
    "ax = sns.catplot(x = \"Pclass\",\n",
    "           y = \"Age\",\n",
    "           data = titanic,\n",
    "            hue = \"Sex\",\n",
    "            # Options: box, violin, swarm\n",
    "           kind = \" \",\n",
    "           col = \"Survived\")\n",
    "\n",
    "# Label axes\n",
    "ax.set(xlabel = \" \",\n",
    "      ylabel = \" \"\n",
    "      )\n",
    "\n",
    "# Provide a main title\n",
    "plt.suptitle(\" \",\n",
    "             # Bonus: Uncomment to style the title\n",
    "            # ha = \"center\",\n",
    "             y = 1.03,\n",
    "             #x = 0.1,\n",
    "            # weight = \"extra bold\"\n",
    "            )\n",
    "\n",
    "\n",
    "# Bonus\n",
    "# Uncomment lines 37-39 to change subplot titles\n",
    "#axes = ax.axes.flatten()\n",
    "#axes[0].set_title(\"Died\")\n",
    "#axes[1].set_title(\"Survived\")\n",
    "\n",
    "plt.draw()\n",
    "\n",
    "# Uncomment line 44 to save figure as an image. Replace the file path with your own.\n",
    "#plt.savefig(\"~Desktop/distplot.png\", dpi=900)"
   ]
  },
  {
   "cell_type": "markdown",
   "metadata": {},
   "source": [
    "<a id=\"dist\"></a>\n",
    "## Distribution plots\n",
    "\n",
    "Distribution plots show the distribution and range of a set of values. There are many options for distribution plots. A histogram is one commonly used distribution plot. Seaborn allows you to make interesting and complex distribution plots such as a kernel density plot with `sns.kdeplot()` or a combination of multiple distributions with `sns.jointplot()`. [More about distribution plots.](https://seaborn.pydata.org/tutorial/distributions.html)\n",
    "\n",
    "To create a histogram with seaborn use `sns.distplot()`. The only required parameter of `sns.displot()` is data. To call a specific column in a dataset loaded in the workspace, use `sns.relplot(dataset[\"Column_Name\"]`). Dataset represents the variable name defined when the data was loaded into the workspace.\n",
    "\n",
    "Some of the optional parameters for `sns.distplot()` include:\n",
    "- bins = A numeric value for the number of groupings of the data to display. E.g., bins = 10\n",
    "- rug = True OR False\n",
    "- hist = True OR False\n",
    "- kde = True OR False\n",
    "- color = an html color OR hex code within quotations. E.g., color = \"red\" where red indicates an html color name, or color = \"000000\" where 000000 indicates the hex code for black.\n",
    "\n",
    "[Return to table of contents](#toc)"
   ]
  },
  {
   "cell_type": "markdown",
   "metadata": {},
   "source": [
    "<a id=\"ex12\"></a>\n",
    "## Exercise 12: Explore distribution plots\n",
    "\n",
    "To complete this exercise:\n",
    "1. First, run the following three blocks of code. What kinds of distributions plots are these?\n",
    "2. Make changes to the parameters (e.g., data selected, `kind =`, `rug = `) to try to make new distribution plots.\n",
    "\n",
    "Bonus: Save a plot with `plt.savefig()`.\n",
    "\n",
    "[Return to table of contents](#toc)"
   ]
  },
  {
   "cell_type": "code",
   "execution_count": null,
   "metadata": {},
   "outputs": [],
   "source": [
    "sns.set()\n",
    "sns.distplot(titanic[\"Age\"], \n",
    "             bins = 5,\n",
    "            rug = True,\n",
    "             #hist = False\n",
    "            kde = True,\n",
    "            color = \"000000\")"
   ]
  },
  {
   "cell_type": "code",
   "execution_count": null,
   "metadata": {},
   "outputs": [],
   "source": [
    "sns.jointplot(x = titanic[\"Fare\"],\n",
    "             y = titanic[\"Age\"],\n",
    "             kind = \"hex\")"
   ]
  },
  {
   "cell_type": "code",
   "execution_count": null,
   "metadata": {},
   "outputs": [],
   "source": [
    "sns.kdeplot(tips[\"tip\"], \n",
    "        tips[\"total_bill\"], \n",
    "        n_levels=10, \n",
    "        shade=True)"
   ]
  }
 ],
 "metadata": {
  "kernelspec": {
   "display_name": "Python 3",
   "language": "python",
   "name": "python3"
  },
  "language_info": {
   "codemirror_mode": {
    "name": "ipython",
    "version": 3
   },
   "file_extension": ".py",
   "mimetype": "text/x-python",
   "name": "python",
   "nbconvert_exporter": "python",
   "pygments_lexer": "ipython3",
   "version": "3.7.3"
  }
 },
 "nbformat": 4,
 "nbformat_minor": 2
}
